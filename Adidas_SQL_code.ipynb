{
  "nbformat": 4,
  "nbformat_minor": 0,
  "metadata": {
    "colab": {
      "provenance": [],
      "authorship_tag": "ABX9TyM23ussdeXRQ8tS1br5KhhA",
      "include_colab_link": true
    },
    "kernelspec": {
      "name": "python3",
      "display_name": "Python 3"
    },
    "language_info": {
      "name": "python"
    }
  },
  "cells": [
    {
      "cell_type": "markdown",
      "metadata": {
        "id": "view-in-github",
        "colab_type": "text"
      },
      "source": [
        "<a href=\"https://colab.research.google.com/github/Taweilo/Adidas_theLook/blob/main/Adidas_SQL_code.ipynb\" target=\"_parent\"><img src=\"https://colab.research.google.com/assets/colab-badge.svg\" alt=\"Open In Colab\"/></a>"
      ]
    },
    {
      "cell_type": "markdown",
      "source": [
        "# All table & columns in the dataset"
      ],
      "metadata": {
        "id": "NOsYJmOGrQkC"
      }
    },
    {
      "cell_type": "code",
      "source": [
        "-- Check all table with their cols\n",
        "\n",
        "SELECT\n",
        "    table_name,\n",
        "    STRING_AGG((column_name), ', ') AS columns\n",
        "FROM\n",
        "    `bigquery-public-data.thelook_ecommerce`.INFORMATION_SCHEMA.COLUMNS\n",
        "GROUP BY\n",
        "    table_name;"
      ],
      "metadata": {
        "id": "dykponOWrPby"
      },
      "execution_count": null,
      "outputs": []
    },
    {
      "cell_type": "markdown",
      "source": [
        "Create CSV with complete data, only filter the brand that are interested"
      ],
      "metadata": {
        "id": "mpy2DDqG8imC"
      }
    },
    {
      "cell_type": "code",
      "execution_count": null,
      "metadata": {
        "id": "kPX83rvi7J0l"
      },
      "outputs": [],
      "source": [
        "-- All data\n",
        "\n",
        "SELECT\n",
        "    oi.id AS order_item_id,\n",
        "    o.order_id,\n",
        "    p.category,\n",
        "    p.name AS product_name,\n",
        "    brand,\n",
        "    o.created_at,\n",
        "    EXTRACT(YEAR FROM TIMESTAMP(o.created_at)) AS year, -- create year\n",
        "    EXTRACT(MONTH FROM TIMESTAMP(o.created_at)) AS month, -- create month\n",
        "    o.status,\n",
        "    o.shipped_at,\n",
        "    o.delivered_at,\n",
        "    o.returned_at,\n",
        "    oi.sale_price,\n",
        "    p.cost,\n",
        "    oi.user_id,\n",
        "    u.gender,\n",
        "    u.state,\n",
        "    u.country\n",
        "FROM\n",
        "    `bigquery-public-data.thelook_ecommerce.orders` AS o\n",
        "LEFT JOIN (\n",
        "    SELECT\n",
        "        id,\n",
        "        order_id,\n",
        "        user_id,\n",
        "        product_id,\n",
        "        sale_price\n",
        "    FROM\n",
        "        `bigquery-public-data.thelook_ecommerce.order_items` -- combine data from order_items\n",
        ") AS oi\n",
        "    ON o.order_id = oi.order_id\n",
        "LEFT JOIN `bigquery-public-data.thelook_ecommerce.users` AS u -- receive user profile\n",
        "    ON oi.user_id = u.id\n",
        "LEFT JOIN `bigquery-public-data.thelook_ecommerce.products` AS p -- receive product info\n",
        "    ON oi.product_id = p.id\n",
        "WHERE\n",
        "    brand IN ('adidas', 'Nike', 'PUMA', 'Under Armour', 'Reebok', 'New Balance') -- study sports brand\n",
        "ORDER BY\n",
        "    o.created_at DESC;"
      ]
    },
    {
      "cell_type": "markdown",
      "source": [
        "1. Overall sales performance\n",
        "- Total sports market\n",
        "- Adidas's performance at 2024 Jan / compare with its competitors\n",
        "- Adidas's sales among countries"
      ],
      "metadata": {
        "id": "FJrPCks-8xCH"
      }
    },
    {
      "cell_type": "code",
      "source": [
        "-- total market size (Agg revenue) of the brand on the ecommerce in 2024, Jan\n",
        "\n",
        "SELECT\n",
        "    ROUND(SUM(oi.sale_price), 2) AS total_revenue\n",
        "FROM\n",
        "    `bigquery-public-data.thelook_ecommerce.orders` AS o\n",
        "LEFT JOIN (\n",
        "    SELECT\n",
        "        id, order_id, user_id, product_id, sale_price\n",
        "    FROM\n",
        "        `bigquery-public-data.thelook_ecommerce.order_items`\n",
        ") AS oi\n",
        "    ON o.order_id = oi.order_id\n",
        "LEFT JOIN `bigquery-public-data.thelook_ecommerce.users` AS u\n",
        "    ON oi.user_id = u.id\n",
        "LEFT JOIN `bigquery-public-data.thelook_ecommerce.products` AS p\n",
        "    ON oi.product_id = p.id\n",
        "WHERE\n",
        "    EXTRACT(YEAR FROM TIMESTAMP(o.created_at)) = 2024\n",
        "    AND EXTRACT(MONTH FROM TIMESTAMP(o.created_at)) = 1\n",
        "    AND status NOT IN ('Cancelled', 'Returned')\n",
        "    AND brand IN ('adidas', 'Nike', 'PUMA', 'Under Armour','Reebok','New Balance');"
      ],
      "metadata": {
        "id": "U15bBwEx9OCe"
      },
      "execution_count": null,
      "outputs": []
    },
    {
      "cell_type": "code",
      "source": [
        "-- Sales KPI (Rev, Cost, gross prpfits, mkt%) compare with its competitor\n",
        "\n",
        "SELECT\n",
        "    CONCAT(UPPER(SUBSTR(brand, 1, 1)), LOWER(SUBSTR(brand, 2))) AS brand,\n",
        "    ROUND(SUM(oi.sale_price), 2) AS total_revenue,\n",
        "    ROUND(SUM(p.cost), 2) AS total_cost,\n",
        "    ROUND(SUM(oi.sale_price) - SUM(p.cost), 2) AS gross_profit,\n",
        "    (\n",
        "        ROUND(SUM(oi.sale_price) / (\n",
        "            SELECT\n",
        "                ROUND(SUM(oi.sale_price), 2) AS total_revenue\n",
        "            FROM\n",
        "                `bigquery-public-data.thelook_ecommerce.orders` AS o\n",
        "            LEFT JOIN (\n",
        "                SELECT\n",
        "                    id, order_id, user_id, product_id, sale_price\n",
        "                FROM\n",
        "                    `bigquery-public-data.thelook_ecommerce.order_items`\n",
        "            ) AS oi\n",
        "                ON o.order_id = oi.order_id\n",
        "            LEFT JOIN `bigquery-public-data.thelook_ecommerce.users` AS u\n",
        "                ON oi.user_id = u.id\n",
        "            LEFT JOIN `bigquery-public-data.thelook_ecommerce.products` AS p\n",
        "                ON oi.product_id = p.id\n",
        "            WHERE\n",
        "                EXTRACT(YEAR FROM TIMESTAMP(o.created_at)) = 2024\n",
        "                AND EXTRACT(MONTH FROM TIMESTAMP(o.created_at)) = 1\n",
        "                AND status NOT IN ('Cancelled', 'Returned')\n",
        "                AND brand IN ('adidas', 'Nike', 'PUMA', 'Under Armour','Reebok','New Balance')\n",
        "        ), 2)\n",
        "    ) AS market_share\n",
        "FROM\n",
        "    `bigquery-public-data.thelook_ecommerce.orders` AS o\n",
        "LEFT JOIN (\n",
        "        SELECT\n",
        "            id, order_id, user_id, product_id, sale_price\n",
        "        FROM\n",
        "            `bigquery-public-data.thelook_ecommerce.order_items`\n",
        "    ) AS oi\n",
        "    ON o.order_id = oi.order_id\n",
        "LEFT JOIN `bigquery-public-data.thelook_ecommerce.users` AS u\n",
        "    ON oi.user_id = u.id\n",
        "LEFT JOIN `bigquery-public-data.thelook_ecommerce.products` AS p\n",
        "    ON oi.product_id = p.id\n",
        "WHERE\n",
        "    EXTRACT(YEAR FROM TIMESTAMP(o.created_at)) = 2024\n",
        "    AND EXTRACT(MONTH FROM TIMESTAMP(o.created_at)) = 1\n",
        "    AND status NOT IN ('Cancelled', 'Returned')\n",
        "    AND brand IN ('adidas', 'Nike', 'PUMA', 'Under Armour', 'Reebok', 'New Balance')\n",
        "GROUP BY\n",
        "    brand\n",
        "ORDER BY\n",
        "    brand ASC;"
      ],
      "metadata": {
        "id": "ZKseYh7I9cn8"
      },
      "execution_count": null,
      "outputs": []
    },
    {
      "cell_type": "code",
      "source": [
        "-- Adidas's sales in different countries\n",
        "\n",
        "SELECT\n",
        "    country,\n",
        "    ROUND(SUM(oi.sale_price), 2) AS total_revenue,\n",
        "    ROUND(SUM(p.cost), 2) AS total_cost,\n",
        "    ROUND(SUM(oi.sale_price) - SUM(p.cost), 2) AS gross_profit\n",
        "FROM\n",
        "    `bigquery-public-data.thelook_ecommerce.orders` AS o\n",
        "LEFT JOIN (\n",
        "    SELECT\n",
        "        id, order_id, user_id, product_id, sale_price\n",
        "    FROM\n",
        "        `bigquery-public-data.thelook_ecommerce.order_items`\n",
        ") AS oi\n",
        "    ON o.order_id = oi.order_id\n",
        "LEFT JOIN `bigquery-public-data.thelook_ecommerce.users` AS u\n",
        "    ON oi.user_id = u.id\n",
        "LEFT JOIN `bigquery-public-data.thelook_ecommerce.products` AS p\n",
        "    ON oi.product_id = p.id\n",
        "WHERE\n",
        "    EXTRACT(YEAR FROM TIMESTAMP(o.created_at)) = 2024\n",
        "    AND EXTRACT(MONTH FROM TIMESTAMP(o.created_at)) = 1\n",
        "    AND status NOT IN ('Cancelled', 'Returned')\n",
        "    AND brand = 'adidas'\n",
        "GROUP BY\n",
        "    country\n",
        "ORDER BY\n",
        "    total_revenue DESC;"
      ],
      "metadata": {
        "id": "RrTFYCVv-CQU"
      },
      "execution_count": null,
      "outputs": []
    },
    {
      "cell_type": "markdown",
      "source": [
        "2. Sales trend"
      ],
      "metadata": {
        "id": "nlh_6BMx-Y9J"
      }
    },
    {
      "cell_type": "code",
      "source": [
        " -- Adidas's sales KPI trend\n",
        "\n",
        "SELECT\n",
        "    year,\n",
        "    month,\n",
        "    ROUND(SUM(oi.sale_price), 2) AS total_revenue,\n",
        "    ROUND(SUM(p.cost), 2) AS total_cost,\n",
        "    ROUND(SUM(oi.sale_price) - SUM(p.cost), 2) AS gross_profit\n",
        "FROM\n",
        "    (\n",
        "        SELECT *,\n",
        "            EXTRACT(YEAR FROM TIMESTAMP(created_at)) AS year,\n",
        "            EXTRACT(MONTH FROM TIMESTAMP(created_at)) AS month\n",
        "        FROM\n",
        "            `bigquery-public-data.thelook_ecommerce.orders`\n",
        "    ) AS o\n",
        "LEFT JOIN (\n",
        "    SELECT\n",
        "        id, order_id, user_id, product_id, sale_price\n",
        "    FROM\n",
        "        `bigquery-public-data.thelook_ecommerce.order_items`\n",
        ") AS oi\n",
        "    ON o.order_id = oi.order_id\n",
        "LEFT JOIN `bigquery-public-data.thelook_ecommerce.users` AS u\n",
        "    ON oi.user_id = u.id\n",
        "LEFT JOIN `bigquery-public-data.thelook_ecommerce.products` AS p\n",
        "    ON oi.product_id = p.id\n",
        "WHERE\n",
        "     (\n",
        "         ( EXTRACT(YEAR FROM TIMESTAMP(o.created_at)) = 2023\n",
        "      AND EXTRACT(MONTH FROM TIMESTAMP(o.created_at)) IN (1,2,3,4,5,6,7,8,9,10,11,12))\n",
        "  OR (EXTRACT(YEAR FROM TIMESTAMP(o.created_at)) = 2024\n",
        "            AND EXTRACT(MONTH FROM TIMESTAMP(o.created_at)) = 1)\n",
        "    )\n",
        "    AND status NOT IN ('Cancelled', 'Returned')\n",
        "    AND brand ='adidas'\n",
        "GROUP BY\n",
        "    year, month\n",
        "ORDER BY\n",
        "    year DESC, month DESC;"
      ],
      "metadata": {
        "id": "MJYfz6JL-Zb5"
      },
      "execution_count": null,
      "outputs": []
    },
    {
      "cell_type": "markdown",
      "source": [
        "3. product performance\n",
        "- The most popular product, category\n",
        "- The most cancelled product, category\n",
        "- The most returned product, category"
      ],
      "metadata": {
        "id": "cKb4PTOz-iyz"
      }
    },
    {
      "cell_type": "code",
      "source": [
        "-- TOP 20 most popular product on the platform\n",
        "\n",
        "SELECT\n",
        "    product_id,\n",
        "    name,\n",
        "    COUNT(oi.product_id) AS frequency,\n",
        "    brand,\n",
        "    category\n",
        "FROM\n",
        "    `bigquery-public-data.thelook_ecommerce.order_items` AS oi\n",
        "LEFT JOIN\n",
        "    `bigquery-public-data.thelook_ecommerce.products` AS p\n",
        "ON\n",
        "    oi.product_id = p.id\n",
        "WHERE\n",
        "    status NOT IN ('Cancelled', 'Returned')\n",
        "    AND brand IN ('adidas', 'Nike', 'PUMA', 'Under Armour','Reebok','New Balance')\n",
        "    AND EXTRACT(YEAR FROM TIMESTAMP(oi.created_at)) = 2024\n",
        "    AND EXTRACT(YEAR FROM TIMESTAMP(oi.created_at)) = 1\n",
        "GROUP BY\n",
        "    name, product_id, brand, category\n",
        "ORDER BY\n",
        "    COUNT(oi.product_id) DESC\n",
        "LIMIT 20;\n"
      ],
      "metadata": {
        "id": "nHNLUd87-tSt"
      },
      "execution_count": null,
      "outputs": []
    },
    {
      "cell_type": "code",
      "source": [
        "-- Adidas's top 10 popular product\n",
        "\n",
        "SELECT\n",
        "    product_id,\n",
        "    name,\n",
        "    COUNT(oi.product_id) AS purchase_frequency,\n",
        "    category\n",
        "FROM\n",
        "    `bigquery-public-data.thelook_ecommerce.order_items` AS oi\n",
        "LEFT JOIN\n",
        "    `bigquery-public-data.thelook_ecommerce.products` AS p\n",
        "ON\n",
        "    oi.product_id = p.id\n",
        "WHERE\n",
        "    status NOT IN ('Cancelled', 'Returned')\n",
        "    AND brand = 'adidas'\n",
        "    AND EXTRACT(YEAR FROM TIMESTAMP(oi.created_at)) = 2024\n",
        "    AND EXTRACT(MONTH FROM TIMESTAMP(oi.created_at)) = 1\n",
        "GROUP BY\n",
        "    name, product_id, category\n",
        "ORDER BY\n",
        "    COUNT(oi.product_id) DESC\n",
        "LIMIT 10;"
      ],
      "metadata": {
        "id": "EUzvZ5Hb-ttD"
      },
      "execution_count": null,
      "outputs": []
    },
    {
      "cell_type": "code",
      "source": [
        "-- top 10 Adidas's cancelled product\n",
        "\n",
        "SELECT\n",
        "    product_id,\n",
        "    name,\n",
        "    COUNT(oi.product_id) AS cancel_frequency,\n",
        "    category\n",
        "FROM\n",
        "    `bigquery-public-data.thelook_ecommerce.order_items` AS oi\n",
        "LEFT JOIN\n",
        "    `bigquery-public-data.thelook_ecommerce.products` AS p\n",
        "ON\n",
        "    oi.product_id = p.id\n",
        "WHERE\n",
        "    status = 'Cancelled'\n",
        "    AND brand = 'adidas'\n",
        "    AND EXTRACT(YEAR FROM TIMESTAMP(oi.created_at)) = 2024\n",
        "    AND EXTRACT(MONTH FROM TIMESTAMP(oi.created_at)) = 1\n",
        "GROUP BY\n",
        "    name, product_id, category\n",
        "ORDER BY\n",
        "    COUNT(oi.product_id) DESC\n",
        "LIMIT 10;"
      ],
      "metadata": {
        "id": "1Y40_xjsQ30h"
      },
      "execution_count": null,
      "outputs": []
    },
    {
      "cell_type": "code",
      "source": [
        "-- top 10 Adidas's returned product\n",
        "\n",
        "SELECT\n",
        "    product_id,\n",
        "    name,\n",
        "    COUNT(oi.product_id) AS returned_frequency,\n",
        "    category\n",
        "FROM\n",
        "    `bigquery-public-data.thelook_ecommerce.order_items` AS oi\n",
        "LEFT JOIN\n",
        "    `bigquery-public-data.thelook_ecommerce.products` AS p\n",
        "ON\n",
        "    oi.product_id = p.id\n",
        "WHERE\n",
        "    status = 'Returned'\n",
        "    AND brand = 'adidas'\n",
        "    AND EXTRACT(YEAR FROM TIMESTAMP(oi.created_at)) = 2024\n",
        "    AND EXTRACT(MONTH FROM TIMESTAMP(oi.created_at)) = 1\n",
        "GROUP BY\n",
        "    name, product_id, category\n",
        "ORDER BY\n",
        "    COUNT(oi.product_id) DESC\n",
        "LIMIT 10;"
      ],
      "metadata": {
        "id": "gzhViKPw-6hI"
      },
      "execution_count": null,
      "outputs": []
    },
    {
      "cell_type": "markdown",
      "source": [
        "4. Customer profile\n",
        "- customer location\n",
        "- age\n",
        "- gender\n",
        "- average spend\n",
        "CLV, RMF?"
      ],
      "metadata": {
        "id": "EDoj9AOE-teP"
      }
    },
    {
      "cell_type": "code",
      "source": [
        "-- customers profile adidas's customer from which countries, age, gender\n",
        "\n",
        "SELECT\n",
        "    oi.order_id,\n",
        "    u.id AS user_id,\n",
        "    u.age,\n",
        "    u.gender,\n",
        "    u.country\n",
        "FROM\n",
        "    `bigquery-public-data.thelook_ecommerce.order_items` AS oi\n",
        "LEFT JOIN\n",
        "    `bigquery-public-data.thelook_ecommerce.users` AS u\n",
        "ON\n",
        "    oi.user_id = u.id\n",
        "LEFT JOIN\n",
        "    `bigquery-public-data.thelook_ecommerce.products` AS p\n",
        "ON\n",
        "    oi.product_id = p.id\n",
        "WHERE\n",
        "    status NOT IN ('Returned', 'Cancelled')\n",
        "    AND brand = 'adidas'\n",
        "    AND EXTRACT(YEAR FROM TIMESTAMP(oi.created_at)) = 2024\n",
        "    AND EXTRACT(MONTH FROM TIMESTAMP(oi.created_at)) = 1;\n"
      ],
      "metadata": {
        "id": "ItJ8IzpQSMhm"
      },
      "execution_count": null,
      "outputs": []
    },
    {
      "cell_type": "code",
      "source": [
        "-- age profile of adidas'scustomer\n",
        "\n",
        "SELECT\n",
        "    age,\n",
        "    COUNT(DISTINCT u.id) AS customer_number\n",
        "FROM\n",
        "    `bigquery-public-data.thelook_ecommerce.order_items` AS oi\n",
        "INNER JOIN\n",
        "    `bigquery-public-data.thelook_ecommerce.users` AS u\n",
        "ON\n",
        "    oi.user_id = u.id\n",
        "INNER JOIN\n",
        "    `bigquery-public-data.thelook_ecommerce.products` AS p\n",
        "ON\n",
        "    oi.product_id = p.id\n",
        "WHERE\n",
        "    status NOT IN ('Returned', 'Cancelled')\n",
        "    AND brand = 'adidas'\n",
        "    AND EXTRACT(YEAR FROM TIMESTAMP(oi.created_at)) = 2024\n",
        "    AND EXTRACT(MONTH FROM TIMESTAMP(oi.created_at)) = 1\n",
        "GROUP BY\n",
        "    age\n",
        "ORDER BY\n",
        "    age;\n"
      ],
      "metadata": {
        "id": "_-ZewJPo5bvo"
      },
      "execution_count": null,
      "outputs": []
    },
    {
      "cell_type": "code",
      "source": [
        "SELECT\n",
        "    age_group,\n",
        "    COUNT(user_id) AS customer_count\n",
        "FROM\n",
        "(\n",
        "SELECT\n",
        "        user_id,\n",
        "        age,\n",
        "        CASE\n",
        "            WHEN age BETWEEN 13 AND 19 THEN 'Teens'\n",
        "            WHEN age BETWEEN 20 AND 35 THEN 'Young Adults'\n",
        "            WHEN age BETWEEN 36 AND 50 THEN 'Adults'\n",
        "            ELSE 'Seniors'\n",
        "        END AS age_group\n",
        "FROM\n",
        "    `bigquery-public-data.thelook_ecommerce.order_items` AS oi\n",
        "INNER JOIN\n",
        "    `bigquery-public-data.thelook_ecommerce.users` AS u\n",
        "ON\n",
        "    oi.user_id = u.id\n",
        "INNER JOIN\n",
        "    `bigquery-public-data.thelook_ecommerce.products` AS p\n",
        "ON\n",
        "    oi.product_id = p.id\n",
        "WHERE\n",
        "    status NOT IN ('Returned', 'Cancelled')\n",
        "    AND brand = 'adidas'\n",
        "    AND EXTRACT(YEAR FROM TIMESTAMP(oi.created_at)) = 2024\n",
        "    AND EXTRACT(MONTH FROM TIMESTAMP(oi.created_at)) = 1\n",
        ") AS grouped_customers\n",
        "GROUP BY\n",
        "    age_group\n",
        "ORDER BY\n",
        "    CASE age_group\n",
        "        WHEN 'Teens' THEN 1\n",
        "        WHEN 'Young Adults' THEN 2\n",
        "        WHEN 'Adults' THEN 3\n",
        "        WHEN 'Seniors' THEN 4\n",
        "        ELSE 5  -- To handle any unexpected age groups\n",
        "    END;"
      ],
      "metadata": {
        "id": "DgW0-R6RhPgW"
      },
      "execution_count": null,
      "outputs": []
    },
    {
      "cell_type": "code",
      "source": [
        "-- country profile of adidas's customer\n",
        "\n",
        "SELECT\n",
        "    country,\n",
        "    COUNT(DISTINCT u.id) AS customer_number\n",
        "FROM\n",
        "    `bigquery-public-data.thelook_ecommerce.order_items` AS oi\n",
        "LEFT JOIN\n",
        "    `bigquery-public-data.thelook_ecommerce.users` AS u\n",
        "ON\n",
        "    oi.user_id = u.id\n",
        "LEFT JOIN\n",
        "    `bigquery-public-data.thelook_ecommerce.products` AS p\n",
        "ON\n",
        "    oi.product_id = p.id\n",
        "WHERE\n",
        "    status NOT IN ('Returned', 'Cancelled')\n",
        "    AND brand = 'adidas'\n",
        "    AND EXTRACT(YEAR FROM TIMESTAMP(oi.created_at)) = 2024\n",
        "    AND EXTRACT(MONTH FROM TIMESTAMP(oi.created_at)) = 1\n",
        "GROUP BY\n",
        "    country\n",
        "ORDER BY\n",
        "    COUNT(DISTINCT u.id) DESC;\n"
      ],
      "metadata": {
        "id": "wmAgmwgB5cKa"
      },
      "execution_count": null,
      "outputs": []
    },
    {
      "cell_type": "code",
      "source": [
        "-- gender profile of adidas'scustomer\n",
        "\n",
        "SELECT\n",
        "    gender,\n",
        "    COUNT(DISTINCT u.id) AS customer_number\n",
        "FROM\n",
        "    `bigquery-public-data.thelook_ecommerce.order_items` AS oi\n",
        "LEFT JOIN\n",
        "    `bigquery-public-data.thelook_ecommerce.users` AS u\n",
        "ON\n",
        "    oi.user_id = u.id\n",
        "LEFT JOIN\n",
        "    `bigquery-public-data.thelook_ecommerce.products` AS p\n",
        "ON\n",
        "    oi.product_id = p.id\n",
        "WHERE\n",
        "    status NOT IN ('Returned', 'Cancelled')\n",
        "    AND brand = 'adidas'\n",
        "    AND EXTRACT(YEAR FROM TIMESTAMP(oi.created_at)) = 2024\n",
        "    AND EXTRACT(MONTH FROM TIMESTAMP(oi.created_at)) = 1\n",
        "GROUP BY\n",
        "    gender\n",
        "ORDER BY\n",
        "    gender;\n"
      ],
      "metadata": {
        "id": "bJzM4mo75cj_"
      },
      "execution_count": null,
      "outputs": []
    },
    {
      "cell_type": "code",
      "source": [
        "-- study the sales price with sales volume\n",
        "\n",
        "SELECT\n",
        "    ROUND(oi.sale_price, 2),\n",
        "    COUNT(oi.id) AS sales_volume\n",
        "FROM\n",
        "    `bigquery-public-data.thelook_ecommerce.order_items` AS oi\n",
        "LEFT JOIN\n",
        "    `bigquery-public-data.thelook_ecommerce.users` AS u\n",
        "ON\n",
        "    oi.user_id = u.id\n",
        "LEFT JOIN\n",
        "    `bigquery-public-data.thelook_ecommerce.products` AS p\n",
        "ON\n",
        "    oi.product_id = p.id\n",
        "WHERE\n",
        "    status NOT IN ('Returned', 'Cancelled')\n",
        "    AND brand = 'adidas'\n",
        "    AND EXTRACT(YEAR FROM TIMESTAMP(oi.created_at)) IN (2023, 2024)\n",
        "GROUP BY\n",
        "    oi.sale_price\n",
        "ORDER BY\n",
        "    oi.sale_price;\n"
      ],
      "metadata": {
        "id": "1gZWJopg0vlW"
      },
      "execution_count": null,
      "outputs": []
    },
    {
      "cell_type": "code",
      "source": [
        "-- AOV, APF, Customer value\n",
        "\n",
        "SELECT\n",
        "    ROUND((SUM(sale_price) / COUNT(oi.id)), 2) AS aov, -- Revenue/#Order\n",
        "    ROUND((COUNT(oi.id) / COUNT(DISTINCT u.id)), 2) AS apf, -- #Order/Unique users\n",
        "    ROUND((SUM(sale_price) / COUNT(DISTINCT u.id)), 2) AS customer_value --aov*apf\n",
        "FROM\n",
        "    `bigquery-public-data.thelook_ecommerce.order_items` AS oi\n",
        "LEFT JOIN\n",
        "    `bigquery-public-data.thelook_ecommerce.products` AS p\n",
        "ON\n",
        "    oi.product_id = p.id\n",
        "LEFT JOIN\n",
        "    `bigquery-public-data.thelook_ecommerce.users` AS u\n",
        "ON\n",
        "    oi.user_id = u.id\n",
        "WHERE\n",
        "    oi.status NOT IN ('Cancelled', 'Returned')\n",
        "    AND p.brand = 'adidas'\n",
        "    AND EXTRACT(YEAR FROM TIMESTAMP(oi.created_at)) = 2024\n",
        "    AND EXTRACT(MONTH FROM TIMESTAMP(oi.created_at)) = 1;"
      ],
      "metadata": {
        "id": "U3Kj3KhKNPLZ"
      },
      "execution_count": null,
      "outputs": []
    },
    {
      "cell_type": "code",
      "source": [
        "-- Customer buying behavior\n",
        "\n",
        "WITH rfm_data AS (\n",
        "    SELECT\n",
        "        oi.user_id,\n",
        "        TIMESTAMP_DIFF('2024-01-31', MAX(oi.created_at), DAY) AS recency,\n",
        "        COUNT(oi.id) AS frequency,\n",
        "        SUM(oi.sale_price) AS monetary\n",
        "    FROM\n",
        "        `bigquery-public-data.thelook_ecommerce.order_items` AS oi\n",
        "    LEFT JOIN\n",
        "        `bigquery-public-data.thelook_ecommerce.products` AS p\n",
        "    ON\n",
        "        oi.product_id = p.id\n",
        "    WHERE\n",
        "        oi.status = 'Complete'\n",
        "        AND p.brand = 'adidas'\n",
        "        AND EXTRACT(YEAR FROM TIMESTAMP(oi.created_at)) = 2024\n",
        "        AND EXTRACT(MONTH FROM TIMESTAMP(oi.created_at)) = 1\n",
        "    GROUP BY oi.user_id\n",
        ")\n",
        "\n",
        "SELECT\n",
        "    ROUND(AVG(recency),2) AS Avg_recency,\n",
        "    ROUND(AVG(frequency),2) AS Avg_frequency,\n",
        "    ROUND(AVG(monetary),2) AS Avg_monetary\n",
        "\n",
        "FROM\n",
        "    rfm_data;\n"
      ],
      "metadata": {
        "colab": {
          "base_uri": "https://localhost:8080/",
          "height": 109
        },
        "id": "9xFl35IdFvjA",
        "outputId": "580566a8-0cb4-43a0-ca3e-c12002dfe07c"
      },
      "execution_count": 2,
      "outputs": [
        {
          "output_type": "error",
          "ename": "SyntaxError",
          "evalue": "invalid syntax (<ipython-input-2-4e31a39b56c2>, line 1)",
          "traceback": [
            "\u001b[0;36m  File \u001b[0;32m\"<ipython-input-2-4e31a39b56c2>\"\u001b[0;36m, line \u001b[0;32m1\u001b[0m\n\u001b[0;31m    -- Customer buying behavior\u001b[0m\n\u001b[0m                ^\u001b[0m\n\u001b[0;31mSyntaxError\u001b[0m\u001b[0;31m:\u001b[0m invalid syntax\n"
          ]
        }
      ]
    },
    {
      "cell_type": "code",
      "source": [
        "-- frm analysis of adidas's customer (2019~2024)\n",
        "\n",
        "WITH rfm_data AS (\n",
        "    SELECT\n",
        "        oi.user_id,\n",
        "        TIMESTAMP_DIFF(CURRENT_TIMESTAMP(), MAX(oi.created_at), DAY) AS recency,\n",
        "        COUNT(oi.id) AS frequency,\n",
        "        SUM(oi.sale_price) AS monetary\n",
        "    FROM\n",
        "        `bigquery-public-data.thelook_ecommerce.order_items` AS oi\n",
        "    LEFT JOIN\n",
        "        `bigquery-public-data.thelook_ecommerce.products` AS p\n",
        "    ON\n",
        "        oi.product_id = p.id\n",
        "    WHERE\n",
        "        oi.status = 'Complete'\n",
        "        AND p.brand = 'adidas'\n",
        "        AND EXTRACT(YEAR FROM TIMESTAMP(oi.created_at)) IN (2019,2020,2021,2022,2023,2024)\n",
        "    GROUP BY oi.user_id\n",
        ")\n",
        "\n",
        "SELECT\n",
        "    user_id,\n",
        "    recency,\n",
        "    frequency,\n",
        "    monetary,\n",
        "    CASE\n",
        "        WHEN recency <= 30 AND frequency >= 4 AND monetary >= 300 THEN 'Champions'\n",
        "        WHEN recency <= 30 AND frequency >= 3 THEN 'Loyal Customers'\n",
        "        WHEN recency <= 60 AND frequency >= 2 THEN 'Potential Loyalists'\n",
        "        WHEN recency <= 90 THEN 'Recent Customers'\n",
        "        ELSE 'Needs Attention'\n",
        "    END AS rfm_segment\n",
        "FROM\n",
        "    rfm_data\n",
        "ORDER BY frequency DESC;"
      ],
      "metadata": {
        "id": "j3wKihaE0uH8"
      },
      "execution_count": null,
      "outputs": []
    },
    {
      "cell_type": "code",
      "source": [
        "-- what else product do they purchase for adidas's customer\n",
        "-- order with adidas's product and non-adidas product\n",
        "\n",
        "WITH order_list AS (\n",
        "    SELECT adidas_order.order_id AS order_id\n",
        "    FROM (\n",
        "        SELECT DISTINCT order_id\n",
        "        FROM\n",
        "            `bigquery-public-data.thelook_ecommerce.order_items` AS oit\n",
        "        LEFT JOIN\n",
        "            `bigquery-public-data.thelook_ecommerce.products` AS p\n",
        "        ON\n",
        "            oit.product_id = p.id\n",
        "        WHERE\n",
        "            status = 'Complete'\n",
        "            AND brand = 'adidas'\n",
        "    ) AS adidas_order\n",
        "    INNER JOIN (\n",
        "        SELECT DISTINCT order_id\n",
        "        FROM\n",
        "            `bigquery-public-data.thelook_ecommerce.order_items` AS oit\n",
        "        LEFT JOIN\n",
        "            `bigquery-public-data.thelook_ecommerce.products` AS p\n",
        "        ON\n",
        "            oit.product_id = p.id\n",
        "        WHERE\n",
        "            status = 'Complete'\n",
        "            AND brand != 'adidas'\n",
        "\n",
        "    ) AS non_adidas_order\n",
        "    ON\n",
        "        adidas_order.order_id = non_adidas_order.order_id\n",
        ")\n",
        "SELECT\n",
        "    order_list.order_id,\n",
        "    STRING_AGG(CAST(oi.id AS STRING), \", \") AS order_item_id,\n",
        "    STRING_AGG(name, \", \") AS non_Adidas_purchase,\n",
        "    STRING_AGG(brand, \", \") AS non_Adidas_brand,\n",
        "    STRING_AGG(category, \", \") AS non_Adidas_category\n",
        "FROM order_list\n",
        "INNER JOIN\n",
        "        `bigquery-public-data.thelook_ecommerce.order_items` AS oi\n",
        "ON\n",
        "    order_list.order_id = oi.order_id\n",
        "INNER JOIN\n",
        "        `bigquery-public-data.thelook_ecommerce.products` AS prod\n",
        "ON\n",
        "    oi.product_id = prod.id\n",
        "WHERE\n",
        "     EXTRACT(YEAR FROM TIMESTAMP(oi.created_at)) = 2024\n",
        "     AND EXTRACT(MONTH FROM TIMESTAMP(oi.created_at)) = 1\n",
        "     AND brand != 'adidas'\n",
        "GROUP BY order_list.order_id\n",
        "ORDER BY order_list.order_id;\n"
      ],
      "metadata": {
        "id": "aEgkR_9ZsIf8"
      },
      "execution_count": null,
      "outputs": []
    },
    {
      "cell_type": "code",
      "source": [
        "-- redefine competitors/ purchase preference\n",
        "\n",
        "WITH order_list AS (\n",
        "    SELECT adidas_order.order_id AS order_id\n",
        "    FROM (\n",
        "        SELECT DISTINCT order_id\n",
        "        FROM\n",
        "            `bigquery-public-data.thelook_ecommerce.order_items` AS oit\n",
        "        LEFT JOIN\n",
        "            `bigquery-public-data.thelook_ecommerce.products` AS p\n",
        "        ON\n",
        "            oit.product_id = p.id\n",
        "        WHERE\n",
        "            status = 'Complete'\n",
        "            AND brand = 'adidas'\n",
        "    ) AS adidas_order\n",
        "    INNER JOIN (\n",
        "        SELECT DISTINCT order_id\n",
        "        FROM\n",
        "            `bigquery-public-data.thelook_ecommerce.order_items` AS oit\n",
        "        LEFT JOIN\n",
        "            `bigquery-public-data.thelook_ecommerce.products` AS p\n",
        "        ON\n",
        "            oit.product_id = p.id\n",
        "        WHERE\n",
        "            status = 'Complete'\n",
        "            AND brand != 'adidas'\n",
        "\n",
        "    ) AS non_adidas_order\n",
        "    ON\n",
        "        adidas_order.order_id = non_adidas_order.order_id\n",
        ")\n",
        "SELECT\n",
        "    brand,\n",
        "    COUNT(brand) AS number_of_purchase\n",
        "\n",
        "FROM order_list\n",
        "INNER JOIN\n",
        "        `bigquery-public-data.thelook_ecommerce.order_items` AS oi\n",
        "ON\n",
        "    order_list.order_id = oi.order_id\n",
        "INNER JOIN\n",
        "        `bigquery-public-data.thelook_ecommerce.products` AS prod\n",
        "ON\n",
        "    oi.product_id = prod.id\n",
        "WHERE\n",
        "     EXTRACT(YEAR FROM TIMESTAMP(oi.created_at)) = 2024\n",
        "     AND EXTRACT(MONTH FROM TIMESTAMP(oi.created_at)) = 1\n",
        "     AND brand != 'adidas'\n",
        "GROUP BY\n",
        "     brand\n",
        "ORDER BY\n",
        "number_of_purchase DESC;"
      ],
      "metadata": {
        "id": "UV-b-v1bczby"
      },
      "execution_count": null,
      "outputs": []
    },
    {
      "cell_type": "code",
      "source": [
        "-- Analyze adidas's customer's purchase behavior\n",
        "\n",
        "SELECT\n",
        "    adidas_user.user_id,\n",
        "    adidas_user.product_name,\n",
        "    STRING_AGG(prod.name, \", \") AS non_Adidas_purchase,\n",
        "    STRING_AGG(brand, \", \") AS non_Adidas_brand\n",
        "FROM (\n",
        "    SELECT\n",
        "        user_id,\n",
        "        name AS product_name\n",
        "    FROM\n",
        "        `bigquery-public-data.thelook_ecommerce.order_items` AS oi\n",
        "    LEFT JOIN\n",
        "        `bigquery-public-data.thelook_ecommerce.users` AS u\n",
        "    ON\n",
        "        oi.user_id = u.id\n",
        "    LEFT JOIN\n",
        "        `bigquery-public-data.thelook_ecommerce.products` AS p\n",
        "    ON\n",
        "        oi.product_id = p.id\n",
        "    WHERE\n",
        "        status = 'Complete'\n",
        "        AND brand = 'adidas'\n",
        "        AND EXTRACT(YEAR FROM TIMESTAMP(oi.created_at)) = 2024\n",
        "        AND EXTRACT(MONTH FROM TIMESTAMP(oi.created_at)) = 1\n",
        ") AS adidas_user\n",
        "LEFT JOIN (\n",
        "    SELECT\n",
        "        *\n",
        "    FROM\n",
        "        `bigquery-public-data.thelook_ecommerce.order_items`\n",
        "    WHERE\n",
        "        status = 'Complete'\n",
        "        AND EXTRACT(YEAR FROM TIMESTAMP(created_at)) IN (2023,2024)\n",
        ") AS order_item\n",
        "ON\n",
        "    adidas_user.user_id = order_item.user_id\n",
        "LEFT JOIN\n",
        "        `bigquery-public-data.thelook_ecommerce.products` AS prod\n",
        "ON\n",
        "    order_item.product_id = prod.id\n",
        "WHERE brand != 'adidas'\n",
        "GROUP BY\n",
        "    adidas_user.user_id,\n",
        "    adidas_user.product_name\n",
        "ORDER BY\n",
        "    user_id;\n"
      ],
      "metadata": {
        "id": "pz17zXwLA5UG"
      },
      "execution_count": null,
      "outputs": []
    },
    {
      "cell_type": "markdown",
      "source": [
        "5. Delivery efficency\n",
        "- Lead time\n",
        "- Delivery Duration"
      ],
      "metadata": {
        "id": "_lipfn-aZTLO"
      }
    },
    {
      "cell_type": "code",
      "source": [
        "-- Avg. lead time in 2024 Jan\n",
        "\n",
        "SELECT\n",
        "    ROUND((AVG(TIMESTAMP_DIFF(oi.delivered_at, oi.created_at, HOUR))/24), 2) AS avg_lead_time\n",
        "FROM\n",
        "    `bigquery-public-data.thelook_ecommerce.order_items` AS oi\n",
        "LEFT JOIN\n",
        "    `bigquery-public-data.thelook_ecommerce.users` AS u\n",
        "ON\n",
        "    oi.user_id = u.id\n",
        "LEFT JOIN\n",
        "    `bigquery-public-data.thelook_ecommerce.products` AS p\n",
        "ON\n",
        "    oi.product_id = p.id\n",
        "WHERE\n",
        "    status IN ('Complete', 'Returned')\n",
        "    AND brand = 'adidas'\n",
        "    AND EXTRACT(YEAR FROM TIMESTAMP(oi.created_at)) = 2024\n",
        "    AND EXTRACT(MONTH FROM TIMESTAMP(oi.created_at)) = 1;\n",
        "\n",
        "-- Avg. lead time in 2023\n",
        "\n",
        "SELECT\n",
        "    ROUND((AVG(TIMESTAMP_DIFF(oi.delivered_at, oi.created_at, HOUR))/24), 2) AS avg_lead_time\n",
        "FROM\n",
        "    `bigquery-public-data.thelook_ecommerce.order_items` AS oi\n",
        "LEFT JOIN\n",
        "    `bigquery-public-data.thelook_ecommerce.users` AS u\n",
        "ON\n",
        "    oi.user_id = u.id\n",
        "LEFT JOIN\n",
        "    `bigquery-public-data.thelook_ecommerce.products` AS p\n",
        "ON\n",
        "    oi.product_id = p.id\n",
        "WHERE\n",
        "    status IN ('Complete', 'Returned')\n",
        "    AND brand = 'adidas'\n",
        "    AND EXTRACT(YEAR FROM TIMESTAMP(oi.created_at)) = 2023;"
      ],
      "metadata": {
        "id": "7wWAQyH6ZZEu"
      },
      "execution_count": null,
      "outputs": []
    },
    {
      "cell_type": "code",
      "source": [
        "-- Avg. shipping duration in 2024 Jan\n",
        "\n",
        "SELECT\n",
        "    ROUND((AVG(TIMESTAMP_DIFF(oi.delivered_at, oi.shipped_at, HOUR))/24), 2) AS avg_shipping_duration\n",
        "FROM\n",
        "    `bigquery-public-data.thelook_ecommerce.order_items` AS oi\n",
        "LEFT JOIN\n",
        "    `bigquery-public-data.thelook_ecommerce.users` AS u\n",
        "ON\n",
        "    oi.user_id = u.id\n",
        "LEFT JOIN\n",
        "    `bigquery-public-data.thelook_ecommerce.products` AS p\n",
        "ON\n",
        "    oi.product_id = p.id\n",
        "WHERE\n",
        "    status IN ('Complete', 'Returned')\n",
        "    AND brand = 'adidas'\n",
        "    AND EXTRACT(YEAR FROM TIMESTAMP(oi.created_at)) = 2024\n",
        "    AND EXTRACT(MONTH FROM TIMESTAMP(oi.created_at)) = 1;\n",
        "\n",
        "-- Avg. shipping duration in 2023\n",
        "\n",
        "SELECT\n",
        "    ROUND((AVG(TIMESTAMP_DIFF(oi.delivered_at, oi.shipped_at, HOUR))/24), 2) AS avg_shipping_duration\n",
        "FROM\n",
        "    `bigquery-public-data.thelook_ecommerce.order_items` AS oi\n",
        "LEFT JOIN\n",
        "    `bigquery-public-data.thelook_ecommerce.users` AS u\n",
        "ON\n",
        "    oi.user_id = u.id\n",
        "LEFT JOIN\n",
        "    `bigquery-public-data.thelook_ecommerce.products` AS p\n",
        "ON\n",
        "    oi.product_id = p.id\n",
        "WHERE\n",
        "    status IN ('Complete', 'Returned')\n",
        "    AND brand = 'adidas'\n",
        "    AND EXTRACT(YEAR FROM TIMESTAMP(oi.created_at)) = 2023;\n"
      ],
      "metadata": {
        "id": "l0MJ_zTLpDiU"
      },
      "execution_count": null,
      "outputs": []
    },
    {
      "cell_type": "markdown",
      "source": [
        "6. Marketing approach evaluation\n",
        "- how many new customer at theLook / through what channel\n",
        "- did they make the purchase / did they purchase adidas product"
      ],
      "metadata": {
        "id": "oT5OQuDYZZxK"
      }
    },
    {
      "cell_type": "code",
      "source": [
        "-- new customer at theLook\n",
        "\n",
        "SELECT\n",
        "    id AS user_id,\n",
        "    traffic_source,\n",
        "    country,\n",
        "    age,\n",
        "    gender\n",
        "FROM\n",
        "    `bigquery-public-data.thelook_ecommerce.users`\n",
        "WHERE\n",
        "    EXTRACT(YEAR FROM TIMESTAMP(created_at)) = 2024\n",
        "    AND EXTRACT(MONTH FROM TIMESTAMP(oi.created_at)) = 1;"
      ],
      "metadata": {
        "id": "kgEp5PaBZUFx"
      },
      "execution_count": null,
      "outputs": []
    },
    {
      "cell_type": "code",
      "source": [
        "-- channel traffic\n",
        "\n",
        "SELECT\n",
        "    traffic_source,\n",
        "    COUNT(traffic_source) AS channel_traffic\n",
        "FROM\n",
        "    `bigquery-public-data.thelook_ecommerce.users`\n",
        "WHERE\n",
        "    EXTRACT(YEAR FROM TIMESTAMP(created_at)) = 2024\n",
        "    AND EXTRACT(MONTH FROM TIMESTAMP(created_at)) = 1\n",
        "GROUP BY\n",
        "    traffic_source\n",
        "ORDER BY\n",
        "    channel_traffic DESC;\n"
      ],
      "metadata": {
        "id": "p3iHqcRkrXDb"
      },
      "execution_count": null,
      "outputs": []
    },
    {
      "cell_type": "code",
      "source": [
        "-- new register who make a purchase + purchase frequency?\n",
        "\n",
        "SELECT\n",
        "    u.user_id,\n",
        "    u.gender,\n",
        "    u.age,\n",
        "    p.name AS product_name,\n",
        "    p.brand,\n",
        "    p.category,\n",
        "    p.retail_price\n",
        "FROM (\n",
        "    SELECT\n",
        "        id AS user_id,\n",
        "        *\n",
        "    FROM\n",
        "        `bigquery-public-data.thelook_ecommerce.users`\n",
        "    WHERE\n",
        "        EXTRACT(YEAR FROM TIMESTAMP(created_at)) = 2024\n",
        "        AND EXTRACT(MONTH FROM TIMESTAMP(created_at)) = 1\n",
        ") AS u\n",
        "LEFT JOIN\n",
        "    `bigquery-public-data.thelook_ecommerce.order_items` AS o\n",
        "ON\n",
        "    u.user_id = o.user_id\n",
        "LEFT JOIN\n",
        "    `bigquery-public-data.thelook_ecommerce.products` AS p\n",
        "ON\n",
        "    o.product_id = p.id;\n"
      ],
      "metadata": {
        "id": "KwEPE3EHrXP4"
      },
      "execution_count": null,
      "outputs": []
    },
    {
      "cell_type": "code",
      "source": [
        "-- new register brand purchase distribution\n",
        "\n",
        "SELECT\n",
        "    p.brand,\n",
        "    COUNT(u.user_id) AS brand_purchase_by_new_customer,\n",
        "    ROUND(SUM(o.sale_price),2) AS revenue,\n",
        "    STRING_AGG(p.name, ', ') AS product\n",
        "FROM (\n",
        "    SELECT\n",
        "        id AS user_id,\n",
        "        *\n",
        "    FROM\n",
        "        `bigquery-public-data.thelook_ecommerce.users`\n",
        "    WHERE\n",
        "        EXTRACT(YEAR FROM TIMESTAMP(created_at)) = 2024\n",
        "        AND EXTRACT(MONTH FROM TIMESTAMP(created_at)) = 1\n",
        ") AS u\n",
        "LEFT JOIN\n",
        "    `bigquery-public-data.thelook_ecommerce.order_items` AS o\n",
        "ON\n",
        "    u.user_id = o.user_id\n",
        "LEFT JOIN\n",
        "    `bigquery-public-data.thelook_ecommerce.products` AS p\n",
        "ON\n",
        "    o.product_id = p.id\n",
        "WHERE\n",
        "    p.brand IN ('adidas', 'Nike', 'PUMA', 'Under Armour', 'Reebok', 'New Balance')\n",
        "GROUP BY p.brand\n",
        "ORDER BY brand_purchase_by_new_customer DESC;\n"
      ],
      "metadata": {
        "id": "-bQX8APNvNhs"
      },
      "execution_count": null,
      "outputs": []
    },
    {
      "cell_type": "code",
      "source": [
        "-- new register who purchase adidas's product\n",
        "\n",
        "SELECT\n",
        "    u.user_id,\n",
        "    u.gender,\n",
        "    u.age,\n",
        "    p.name AS product_name,\n",
        "    p.brand,\n",
        "    p.category,\n",
        "    p.retail_price\n",
        "FROM (\n",
        "    SELECT\n",
        "        id AS user_id,\n",
        "        *\n",
        "    FROM\n",
        "        `bigquery-public-data.thelook_ecommerce.users`\n",
        "    WHERE\n",
        "        EXTRACT(YEAR FROM TIMESTAMP(created_at)) = 2024\n",
        "        AND EXTRACT(MONTH FROM TIMESTAMP(created_at)) = 1\n",
        ") AS u\n",
        "LEFT JOIN\n",
        "    `bigquery-public-data.thelook_ecommerce.order_items` AS o\n",
        "ON\n",
        "    u.user_id = o.user_id\n",
        "LEFT JOIN\n",
        "    `bigquery-public-data.thelook_ecommerce.products` AS p\n",
        "ON\n",
        "    o.product_id = p.id\n",
        "WHERE\n",
        "    p.brand = 'adidas';"
      ],
      "metadata": {
        "id": "hM91x5UCvD0d"
      },
      "execution_count": null,
      "outputs": []
    },
    {
      "cell_type": "code",
      "source": [],
      "metadata": {
        "id": "SEkEx8b9P1P2"
      },
      "execution_count": null,
      "outputs": []
    },
    {
      "cell_type": "markdown",
      "source": [
        "Side proejct 01 RFM analysis\n",
        "https://clevertap.com/blog/rfm-analysis/"
      ],
      "metadata": {
        "id": "RueYy7PSP1uU"
      }
    },
    {
      "cell_type": "code",
      "source": [],
      "metadata": {
        "id": "KhyK5qnOPzwf"
      },
      "execution_count": null,
      "outputs": []
    },
    {
      "cell_type": "markdown",
      "source": [
        "Side project 02 - supply chain management\n",
        "1. data governance\n",
        "2. warehouse managment"
      ],
      "metadata": {
        "id": "kh0XhbguCxlx"
      }
    },
    {
      "cell_type": "code",
      "source": [
        "SELECT oi.id AS item_id,oi.delivered_at, oi.created_at,order_id,u.postal_code AS customer_postal_code,\n",
        "u.longitude AS customer_longtitude,u.latitude AS customer_latitude,\n",
        "ROUND(TIMESTAMP_DIFF(oi.delivered_at, oi.created_at, HOUR), 2) AS lead_time,\n",
        "dc.name,dc.longitude AS dc_longitude,dc.latitude AS dc_latitude\n",
        "FROM `bigquery-public-data.thelook_ecommerce.order_items` AS oi\n",
        "LEFT JOIN `bigquery-public-data.thelook_ecommerce.users` AS u\n",
        "ON oi.user_id=u.id\n",
        "LEFT JOIN `bigquery-public-data.thelook_ecommerce.inventory_items` AS ii\n",
        "ON oi.inventory_item_id=ii.id\n",
        "LEFT JOIN `bigquery-public-data.thelook_ecommerce.distribution_centers` AS dc\n",
        "ON ii.product_distribution_center_id=dc.id\n",
        "WHERE EXTRACT(YEAR FROM TIMESTAMP (oi.created_at)) = 2023\n",
        "AND oi.status = 'Complete'\n",
        "AND u.country = 'United States';"
      ],
      "metadata": {
        "id": "4XLZKhUTCxZh"
      },
      "execution_count": null,
      "outputs": []
    }
  ]
}